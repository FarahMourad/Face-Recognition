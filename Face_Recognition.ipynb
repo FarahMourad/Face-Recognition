{
  "nbformat": 4,
  "nbformat_minor": 0,
  "metadata": {
    "colab": {
      "name": "Face Recognition.ipynb",
      "provenance": [],
      "authorship_tag": "ABX9TyP2X4WOpuGNWlls4KabvVLX",
      "include_colab_link": true
    },
    "kernelspec": {
      "name": "python3",
      "display_name": "Python 3"
    },
    "language_info": {
      "name": "python"
    }
  },
  "cells": [
    {
      "cell_type": "markdown",
      "metadata": {
        "id": "view-in-github",
        "colab_type": "text"
      },
      "source": [
        "<a href=\"https://colab.research.google.com/github/FarahMourad/Face-Recognition/blob/main/Face_Recognition.ipynb\" target=\"_parent\"><img src=\"https://colab.research.google.com/assets/colab-badge.svg\" alt=\"Open In Colab\"/></a>"
      ]
    },
    {
      "cell_type": "markdown",
      "source": [
        "# Imports"
      ],
      "metadata": {
        "id": "cWOniL6Ll1oA"
      }
    },
    {
      "cell_type": "code",
      "source": [
        "import os\n",
        "import numpy as np\n",
        "from PIL import Image\n",
        "from PIL import ImageChops\n",
        "from sklearn import metrics\n",
        "import matplotlib.pyplot as plt"
      ],
      "metadata": {
        "id": "IuYTYDeYl6FO"
      },
      "execution_count": 2,
      "outputs": []
    },
    {
      "cell_type": "markdown",
      "source": [
        "# Download data"
      ],
      "metadata": {
        "id": "kXACW9TKiMQ7"
      }
    },
    {
      "cell_type": "code",
      "execution_count": 3,
      "metadata": {
        "colab": {
          "base_uri": "https://localhost:8080/"
        },
        "id": "xY86aVhdd87A",
        "outputId": "8820e61d-7734-43a8-b4a9-e9711dcdccb1"
      },
      "outputs": [
        {
          "output_type": "stream",
          "name": "stdout",
          "text": [
            "Mounted at /content/gdrive\n"
          ]
        }
      ],
      "source": [
        "from google.colab import drive\n",
        "drive.mount('/content/gdrive')"
      ]
    },
    {
      "cell_type": "code",
      "source": [
        "import os\n",
        "os.environ['KAGGLE_CONFIG_DIR'] = '/content/gdrive/My Drive/kaggle_dataset'"
      ],
      "metadata": {
        "id": "rdnZb0CHe-U7"
      },
      "execution_count": 4,
      "outputs": []
    },
    {
      "cell_type": "code",
      "source": [
        "%cd /content/gdrive/My Drive/kaggle_dataset"
      ],
      "metadata": {
        "colab": {
          "base_uri": "https://localhost:8080/"
        },
        "id": "i31O3ld5fbxu",
        "outputId": "0bfb1aaf-a849-465a-e433-0395372380cb"
      },
      "execution_count": 5,
      "outputs": [
        {
          "output_type": "stream",
          "name": "stdout",
          "text": [
            "/content/gdrive/My Drive/kaggle_dataset\n"
          ]
        }
      ]
    },
    {
      "cell_type": "code",
      "source": [
        "!ls"
      ],
      "metadata": {
        "colab": {
          "base_uri": "https://localhost:8080/"
        },
        "id": "9fdZQcLxf-Pu",
        "outputId": "76700e06-7f5e-4ed3-f478-be4759421c9f"
      },
      "execution_count": 6,
      "outputs": [
        {
          "output_type": "stream",
          "name": "stdout",
          "text": [
            "face-recognition  kaggle.json\n"
          ]
        }
      ]
    },
    {
      "cell_type": "code",
      "source": [
        "!kaggle datasets download -d kasikrit/att-database-of-faces/"
      ],
      "metadata": {
        "colab": {
          "base_uri": "https://localhost:8080/"
        },
        "id": "R4UXAmB4gDAI",
        "outputId": "8607e36d-f5d9-49b0-cb02-d0e4d30e980c"
      },
      "execution_count": 7,
      "outputs": [
        {
          "output_type": "stream",
          "name": "stdout",
          "text": [
            "Downloading att-database-of-faces.zip to /content/gdrive/My Drive/kaggle_dataset\n",
            "\r  0% 0.00/3.61M [00:00<?, ?B/s]\n",
            "\r100% 3.61M/3.61M [00:00<00:00, 57.3MB/s]\n"
          ]
        }
      ]
    },
    {
      "cell_type": "code",
      "source": [
        "!mkdir face-recognition\n",
        "!mv att-database-of-faces.zip face-recognition"
      ],
      "metadata": {
        "id": "xquTS1YHgY1g",
        "colab": {
          "base_uri": "https://localhost:8080/"
        },
        "outputId": "1998c319-d6a0-48ec-ab97-145377a6c928"
      },
      "execution_count": 8,
      "outputs": [
        {
          "output_type": "stream",
          "name": "stdout",
          "text": [
            "mkdir: cannot create directory ‘face-recognition’: File exists\n"
          ]
        }
      ]
    },
    {
      "cell_type": "code",
      "source": [
        "%cd face-recognition/"
      ],
      "metadata": {
        "colab": {
          "base_uri": "https://localhost:8080/"
        },
        "id": "sQZllcgGgwh7",
        "outputId": "80a333bb-741c-4a8d-9d70-097defac8e15"
      },
      "execution_count": 9,
      "outputs": [
        {
          "output_type": "stream",
          "name": "stdout",
          "text": [
            "/content/gdrive/MyDrive/kaggle_dataset/face-recognition\n"
          ]
        }
      ]
    },
    {
      "cell_type": "code",
      "source": [
        "!unzip att-database-of-faces.zip"
      ],
      "metadata": {
        "id": "HGny4Z-9g8t1",
        "colab": {
          "base_uri": "https://localhost:8080/"
        },
        "outputId": "ddbf5913-d3ec-4e58-9bf7-cb05eb308ed5"
      },
      "execution_count": 10,
      "outputs": [
        {
          "output_type": "stream",
          "name": "stdout",
          "text": [
            "Archive:  att-database-of-faces.zip\n",
            "replace README? [y]es, [n]o, [A]ll, [N]one, [r]ename: y\n",
            "  inflating: README                  \n",
            "replace s1/1.pgm? [y]es, [n]o, [A]ll, [N]one, [r]ename: A\n",
            "  inflating: s1/1.pgm                \n",
            "  inflating: s1/10.pgm               \n",
            "  inflating: s1/2.pgm                \n",
            "  inflating: s1/3.pgm                \n",
            "  inflating: s1/4.pgm                \n",
            "  inflating: s1/5.pgm                \n",
            "  inflating: s1/6.pgm                \n",
            "  inflating: s1/7.pgm                \n",
            "  inflating: s1/8.pgm                \n",
            "  inflating: s1/9.pgm                \n",
            "  inflating: s10/1.pgm               \n",
            "  inflating: s10/10.pgm              \n",
            "  inflating: s10/2.pgm               \n",
            "  inflating: s10/3.pgm               \n",
            "  inflating: s10/4.pgm               \n",
            "  inflating: s10/5.pgm               \n",
            "  inflating: s10/6.pgm               \n",
            "  inflating: s10/7.pgm               \n",
            "  inflating: s10/8.pgm               \n",
            "  inflating: s10/9.pgm               \n",
            "  inflating: s11/1.pgm               \n",
            "  inflating: s11/10.pgm              \n",
            "  inflating: s11/2.pgm               \n",
            "  inflating: s11/3.pgm               \n",
            "  inflating: s11/4.pgm               \n",
            "  inflating: s11/5.pgm               \n",
            "  inflating: s11/6.pgm               \n",
            "  inflating: s11/7.pgm               \n",
            "  inflating: s11/8.pgm               \n",
            "  inflating: s11/9.pgm               \n",
            "  inflating: s12/1.pgm               \n",
            "  inflating: s12/10.pgm              \n",
            "  inflating: s12/2.pgm               \n",
            "  inflating: s12/3.pgm               \n",
            "  inflating: s12/4.pgm               \n",
            "  inflating: s12/5.pgm               \n",
            "  inflating: s12/6.pgm               \n",
            "  inflating: s12/7.pgm               \n",
            "  inflating: s12/8.pgm               \n",
            "  inflating: s12/9.pgm               \n",
            "  inflating: s13/1.pgm               \n",
            "  inflating: s13/10.pgm              \n",
            "  inflating: s13/2.pgm               \n",
            "  inflating: s13/3.pgm               \n",
            "  inflating: s13/4.pgm               \n",
            "  inflating: s13/5.pgm               \n",
            "  inflating: s13/6.pgm               \n",
            "  inflating: s13/7.pgm               \n",
            "  inflating: s13/8.pgm               \n",
            "  inflating: s13/9.pgm               \n",
            "  inflating: s14/1.pgm               \n",
            "  inflating: s14/10.pgm              \n",
            "  inflating: s14/2.pgm               \n",
            "  inflating: s14/3.pgm               \n",
            "  inflating: s14/4.pgm               \n",
            "  inflating: s14/5.pgm               \n",
            "  inflating: s14/6.pgm               \n",
            "  inflating: s14/7.pgm               \n",
            "  inflating: s14/8.pgm               \n",
            "  inflating: s14/9.pgm               \n",
            "  inflating: s15/1.pgm               \n",
            "  inflating: s15/10.pgm              \n",
            "  inflating: s15/2.pgm               \n",
            "  inflating: s15/3.pgm               \n",
            "  inflating: s15/4.pgm               \n",
            "  inflating: s15/5.pgm               \n",
            "  inflating: s15/6.pgm               \n",
            "  inflating: s15/7.pgm               \n",
            "  inflating: s15/8.pgm               \n",
            "  inflating: s15/9.pgm               \n",
            "  inflating: s16/1.pgm               \n",
            "  inflating: s16/10.pgm              \n",
            "  inflating: s16/2.pgm               \n",
            "  inflating: s16/3.pgm               \n",
            "  inflating: s16/4.pgm               \n",
            "  inflating: s16/5.pgm               \n",
            "  inflating: s16/6.pgm               \n",
            "  inflating: s16/7.pgm               \n",
            "  inflating: s16/8.pgm               \n",
            "  inflating: s16/9.pgm               \n",
            "  inflating: s17/1.pgm               \n",
            "  inflating: s17/10.pgm              \n",
            "  inflating: s17/2.pgm               \n",
            "  inflating: s17/3.pgm               \n",
            "  inflating: s17/4.pgm               \n",
            "  inflating: s17/5.pgm               \n",
            "  inflating: s17/6.pgm               \n",
            "  inflating: s17/7.pgm               \n",
            "  inflating: s17/8.pgm               \n",
            "  inflating: s17/9.pgm               \n",
            "  inflating: s18/1.pgm               \n",
            "  inflating: s18/10.pgm              \n",
            "  inflating: s18/2.pgm               \n",
            "  inflating: s18/3.pgm               \n",
            "  inflating: s18/4.pgm               \n",
            "  inflating: s18/5.pgm               \n",
            "  inflating: s18/6.pgm               \n",
            "  inflating: s18/7.pgm               \n",
            "  inflating: s18/8.pgm               \n",
            "  inflating: s18/9.pgm               \n",
            "  inflating: s19/1.pgm               \n",
            "  inflating: s19/10.pgm              \n",
            "  inflating: s19/2.pgm               \n",
            "  inflating: s19/3.pgm               \n",
            "  inflating: s19/4.pgm               \n",
            "  inflating: s19/5.pgm               \n",
            "  inflating: s19/6.pgm               \n",
            "  inflating: s19/7.pgm               \n",
            "  inflating: s19/8.pgm               \n",
            "  inflating: s19/9.pgm               \n",
            "  inflating: s2/1.pgm                \n",
            "  inflating: s2/10.pgm               \n",
            "  inflating: s2/2.pgm                \n",
            "  inflating: s2/3.pgm                \n",
            "  inflating: s2/4.pgm                \n",
            "  inflating: s2/5.pgm                \n",
            "  inflating: s2/6.pgm                \n",
            "  inflating: s2/7.pgm                \n",
            "  inflating: s2/8.pgm                \n",
            "  inflating: s2/9.pgm                \n",
            "  inflating: s20/1.pgm               \n",
            "  inflating: s20/10.pgm              \n",
            "  inflating: s20/2.pgm               \n",
            "  inflating: s20/3.pgm               \n",
            "  inflating: s20/4.pgm               \n",
            "  inflating: s20/5.pgm               \n",
            "  inflating: s20/6.pgm               \n",
            "  inflating: s20/7.pgm               \n",
            "  inflating: s20/8.pgm               \n",
            "  inflating: s20/9.pgm               \n",
            "  inflating: s21/1.pgm               \n",
            "  inflating: s21/10.pgm              \n",
            "  inflating: s21/2.pgm               \n",
            "  inflating: s21/3.pgm               \n",
            "  inflating: s21/4.pgm               \n",
            "  inflating: s21/5.pgm               \n",
            "  inflating: s21/6.pgm               \n",
            "  inflating: s21/7.pgm               \n",
            "  inflating: s21/8.pgm               \n",
            "  inflating: s21/9.pgm               \n",
            "  inflating: s22/1.pgm               \n",
            "  inflating: s22/10.pgm              \n",
            "  inflating: s22/2.pgm               \n",
            "  inflating: s22/3.pgm               \n",
            "  inflating: s22/4.pgm               \n",
            "  inflating: s22/5.pgm               \n",
            "  inflating: s22/6.pgm               \n",
            "  inflating: s22/7.pgm               \n",
            "  inflating: s22/8.pgm               \n",
            "  inflating: s22/9.pgm               \n",
            "  inflating: s23/1.pgm               \n",
            "  inflating: s23/10.pgm              \n",
            "  inflating: s23/2.pgm               \n",
            "  inflating: s23/3.pgm               \n",
            "  inflating: s23/4.pgm               \n",
            "  inflating: s23/5.pgm               \n",
            "  inflating: s23/6.pgm               \n",
            "  inflating: s23/7.pgm               \n",
            "  inflating: s23/8.pgm               \n",
            "  inflating: s23/9.pgm               \n",
            "  inflating: s24/1.pgm               \n",
            "  inflating: s24/10.pgm              \n",
            "  inflating: s24/2.pgm               \n",
            "  inflating: s24/3.pgm               \n",
            "  inflating: s24/4.pgm               \n",
            "  inflating: s24/5.pgm               \n",
            "  inflating: s24/6.pgm               \n",
            "  inflating: s24/7.pgm               \n",
            "  inflating: s24/8.pgm               \n",
            "  inflating: s24/9.pgm               \n",
            "  inflating: s25/1.pgm               \n",
            "  inflating: s25/10.pgm              \n",
            "  inflating: s25/2.pgm               \n",
            "  inflating: s25/3.pgm               \n",
            "  inflating: s25/4.pgm               \n",
            "  inflating: s25/5.pgm               \n",
            "  inflating: s25/6.pgm               \n",
            "  inflating: s25/7.pgm               \n",
            "  inflating: s25/8.pgm               \n",
            "  inflating: s25/9.pgm               \n",
            "  inflating: s26/1.pgm               \n",
            "  inflating: s26/10.pgm              \n",
            "  inflating: s26/2.pgm               \n",
            "  inflating: s26/3.pgm               \n",
            "  inflating: s26/4.pgm               \n",
            "  inflating: s26/5.pgm               \n",
            "  inflating: s26/6.pgm               \n",
            "  inflating: s26/7.pgm               \n",
            "  inflating: s26/8.pgm               \n",
            "  inflating: s26/9.pgm               \n",
            "  inflating: s27/1.pgm               \n",
            "  inflating: s27/10.pgm              \n",
            "  inflating: s27/2.pgm               \n",
            "  inflating: s27/3.pgm               \n",
            "  inflating: s27/4.pgm               \n",
            "  inflating: s27/5.pgm               \n",
            "  inflating: s27/6.pgm               \n",
            "  inflating: s27/7.pgm               \n",
            "  inflating: s27/8.pgm               \n",
            "  inflating: s27/9.pgm               \n",
            "  inflating: s28/1.pgm               \n",
            "  inflating: s28/10.pgm              \n",
            "  inflating: s28/2.pgm               \n",
            "  inflating: s28/3.pgm               \n",
            "  inflating: s28/4.pgm               \n",
            "  inflating: s28/5.pgm               \n",
            "  inflating: s28/6.pgm               \n",
            "  inflating: s28/7.pgm               \n",
            "  inflating: s28/8.pgm               \n",
            "  inflating: s28/9.pgm               \n",
            "  inflating: s29/1.pgm               \n",
            "  inflating: s29/10.pgm              \n",
            "  inflating: s29/2.pgm               \n",
            "  inflating: s29/3.pgm               \n",
            "  inflating: s29/4.pgm               \n",
            "  inflating: s29/5.pgm               \n",
            "  inflating: s29/6.pgm               \n",
            "  inflating: s29/7.pgm               \n",
            "  inflating: s29/8.pgm               \n",
            "  inflating: s29/9.pgm               \n",
            "  inflating: s3/1.pgm                \n",
            "  inflating: s3/10.pgm               \n",
            "  inflating: s3/2.pgm                \n",
            "  inflating: s3/3.pgm                \n",
            "  inflating: s3/4.pgm                \n",
            "  inflating: s3/5.pgm                \n",
            "  inflating: s3/6.pgm                \n",
            "  inflating: s3/7.pgm                \n",
            "  inflating: s3/8.pgm                \n",
            "  inflating: s3/9.pgm                \n",
            "  inflating: s30/1.pgm               \n",
            "  inflating: s30/10.pgm              \n",
            "  inflating: s30/2.pgm               \n",
            "  inflating: s30/3.pgm               \n",
            "  inflating: s30/4.pgm               \n",
            "  inflating: s30/5.pgm               \n",
            "  inflating: s30/6.pgm               \n",
            "  inflating: s30/7.pgm               \n",
            "  inflating: s30/8.pgm               \n",
            "  inflating: s30/9.pgm               \n",
            "  inflating: s31/1.pgm               \n",
            "  inflating: s31/10.pgm              \n",
            "  inflating: s31/2.pgm               \n",
            "  inflating: s31/3.pgm               \n",
            "  inflating: s31/4.pgm               \n",
            "  inflating: s31/5.pgm               \n",
            "  inflating: s31/6.pgm               \n",
            "  inflating: s31/7.pgm               \n",
            "  inflating: s31/8.pgm               \n",
            "  inflating: s31/9.pgm               \n",
            "  inflating: s32/1.pgm               \n",
            "  inflating: s32/10.pgm              \n",
            "  inflating: s32/2.pgm               \n",
            "  inflating: s32/3.pgm               \n",
            "  inflating: s32/4.pgm               \n",
            "  inflating: s32/5.pgm               \n",
            "  inflating: s32/6.pgm               \n",
            "  inflating: s32/7.pgm               \n",
            "  inflating: s32/8.pgm               \n",
            "  inflating: s32/9.pgm               \n",
            "  inflating: s33/1.pgm               \n",
            "  inflating: s33/10.pgm              \n",
            "  inflating: s33/2.pgm               \n",
            "  inflating: s33/3.pgm               \n",
            "  inflating: s33/4.pgm               \n",
            "  inflating: s33/5.pgm               \n",
            "  inflating: s33/6.pgm               \n",
            "  inflating: s33/7.pgm               \n",
            "  inflating: s33/8.pgm               \n",
            "  inflating: s33/9.pgm               \n",
            "  inflating: s34/1.pgm               \n",
            "  inflating: s34/10.pgm              \n",
            "  inflating: s34/2.pgm               \n",
            "  inflating: s34/3.pgm               \n",
            "  inflating: s34/4.pgm               \n",
            "  inflating: s34/5.pgm               \n",
            "  inflating: s34/6.pgm               \n",
            "  inflating: s34/7.pgm               \n",
            "  inflating: s34/8.pgm               \n",
            "  inflating: s34/9.pgm               \n",
            "  inflating: s35/1.pgm               \n",
            "  inflating: s35/10.pgm              \n",
            "  inflating: s35/2.pgm               \n",
            "  inflating: s35/3.pgm               \n",
            "  inflating: s35/4.pgm               \n",
            "  inflating: s35/5.pgm               \n",
            "  inflating: s35/6.pgm               \n",
            "  inflating: s35/7.pgm               \n",
            "  inflating: s35/8.pgm               \n",
            "  inflating: s35/9.pgm               \n",
            "  inflating: s36/1.pgm               \n",
            "  inflating: s36/10.pgm              \n",
            "  inflating: s36/2.pgm               \n",
            "  inflating: s36/3.pgm               \n",
            "  inflating: s36/4.pgm               \n",
            "  inflating: s36/5.pgm               \n",
            "  inflating: s36/6.pgm               \n",
            "  inflating: s36/7.pgm               \n",
            "  inflating: s36/8.pgm               \n",
            "  inflating: s36/9.pgm               \n",
            "  inflating: s37/1.pgm               \n",
            "  inflating: s37/10.pgm              \n",
            "  inflating: s37/2.pgm               \n",
            "  inflating: s37/3.pgm               \n",
            "  inflating: s37/4.pgm               \n",
            "  inflating: s37/5.pgm               \n",
            "  inflating: s37/6.pgm               \n",
            "  inflating: s37/7.pgm               \n",
            "  inflating: s37/8.pgm               \n",
            "  inflating: s37/9.pgm               \n",
            "  inflating: s38/1.pgm               \n",
            "  inflating: s38/10.pgm              \n",
            "  inflating: s38/2.pgm               \n",
            "  inflating: s38/3.pgm               \n",
            "  inflating: s38/4.pgm               \n",
            "  inflating: s38/5.pgm               \n",
            "  inflating: s38/6.pgm               \n",
            "  inflating: s38/7.pgm               \n",
            "  inflating: s38/8.pgm               \n",
            "  inflating: s38/9.pgm               \n",
            "  inflating: s39/1.pgm               \n",
            "  inflating: s39/10.pgm              \n",
            "  inflating: s39/2.pgm               \n",
            "  inflating: s39/3.pgm               \n",
            "  inflating: s39/4.pgm               \n",
            "  inflating: s39/5.pgm               \n",
            "  inflating: s39/6.pgm               \n",
            "  inflating: s39/7.pgm               \n",
            "  inflating: s39/8.pgm               \n",
            "  inflating: s39/9.pgm               \n",
            "  inflating: s4/1.pgm                \n",
            "  inflating: s4/10.pgm               \n",
            "  inflating: s4/2.pgm                \n",
            "  inflating: s4/3.pgm                \n",
            "  inflating: s4/4.pgm                \n",
            "  inflating: s4/5.pgm                \n",
            "  inflating: s4/6.pgm                \n",
            "  inflating: s4/7.pgm                \n",
            "  inflating: s4/8.pgm                \n",
            "  inflating: s4/9.pgm                \n",
            "  inflating: s40/1.pgm               \n",
            "  inflating: s40/10.pgm              \n",
            "  inflating: s40/2.pgm               \n",
            "  inflating: s40/3.pgm               \n",
            "  inflating: s40/4.pgm               \n",
            "  inflating: s40/5.pgm               \n",
            "  inflating: s40/6.pgm               \n",
            "  inflating: s40/7.pgm               \n",
            "  inflating: s40/8.pgm               \n",
            "  inflating: s40/9.pgm               \n",
            "  inflating: s5/1.pgm                \n",
            "  inflating: s5/10.pgm               \n",
            "  inflating: s5/2.pgm                \n",
            "  inflating: s5/3.pgm                \n",
            "  inflating: s5/4.pgm                \n",
            "  inflating: s5/5.pgm                \n",
            "  inflating: s5/6.pgm                \n",
            "  inflating: s5/7.pgm                \n",
            "  inflating: s5/8.pgm                \n",
            "  inflating: s5/9.pgm                \n",
            "  inflating: s6/1.pgm                \n",
            "  inflating: s6/10.pgm               \n",
            "  inflating: s6/2.pgm                \n",
            "  inflating: s6/3.pgm                \n",
            "  inflating: s6/4.pgm                \n",
            "  inflating: s6/5.pgm                \n",
            "  inflating: s6/6.pgm                \n",
            "  inflating: s6/7.pgm                \n",
            "  inflating: s6/8.pgm                \n",
            "  inflating: s6/9.pgm                \n",
            "  inflating: s7/1.pgm                \n",
            "  inflating: s7/10.pgm               \n",
            "  inflating: s7/2.pgm                \n",
            "  inflating: s7/3.pgm                \n",
            "  inflating: s7/4.pgm                \n",
            "  inflating: s7/5.pgm                \n",
            "  inflating: s7/6.pgm                \n",
            "  inflating: s7/7.pgm                \n",
            "  inflating: s7/8.pgm                \n",
            "  inflating: s7/9.pgm                \n",
            "  inflating: s8/1.pgm                \n",
            "  inflating: s8/10.pgm               \n",
            "  inflating: s8/2.pgm                \n",
            "  inflating: s8/3.pgm                \n",
            "  inflating: s8/4.pgm                \n",
            "  inflating: s8/5.pgm                \n",
            "  inflating: s8/6.pgm                \n",
            "  inflating: s8/7.pgm                \n",
            "  inflating: s8/8.pgm                \n",
            "  inflating: s8/9.pgm                \n",
            "  inflating: s9/1.pgm                \n",
            "  inflating: s9/10.pgm               \n",
            "  inflating: s9/2.pgm                \n",
            "  inflating: s9/3.pgm                \n",
            "  inflating: s9/4.pgm                \n",
            "  inflating: s9/5.pgm                \n",
            "  inflating: s9/6.pgm                \n",
            "  inflating: s9/7.pgm                \n",
            "  inflating: s9/8.pgm                \n",
            "  inflating: s9/9.pgm                \n"
          ]
        }
      ]
    },
    {
      "cell_type": "markdown",
      "source": [
        "# Prepare Data"
      ],
      "metadata": {
        "id": "mBMY69awnX2B"
      }
    },
    {
      "cell_type": "code",
      "source": [
        "path = '/content/gdrive/MyDrive/kaggle_dataset/face-recognition'\n",
        "person_id = 1\n",
        "#Data matrix\n",
        "face_data =[]\n",
        "#label vector\n",
        "labels = []\n",
        "for root, dirs, files in os.walk(path):\n",
        "        #loop through each subject directory\n",
        "        for subdir in dirs:\n",
        "            subject_path = os.path.join(root , subdir)\n",
        "            #convert images into a numpy array s\n",
        "            # list of files in the directory\n",
        "            for file in os.listdir(subject_path):\n",
        "              #L only stores a greyscale, not colour\n",
        "                img = Image.open(os.path.join(subject_path , file)).convert('L') \n",
        "                # reval return a contiguous flattened array.\n",
        "                face_data.append(np.asarray(img).ravel())\n",
        "                labels.append(person_id)\n",
        "            person_id += 1\n",
        "print (len(face_data[0]))\n"
      ],
      "metadata": {
        "colab": {
          "base_uri": "https://localhost:8080/"
        },
        "id": "-VYvRfmvndzG",
        "outputId": "7d9aeeec-9649-4fd9-ad28-c0d049662611"
      },
      "execution_count": 19,
      "outputs": [
        {
          "output_type": "stream",
          "name": "stdout",
          "text": [
            "10304\n"
          ]
        }
      ]
    },
    {
      "cell_type": "markdown",
      "source": [
        "# Split Dataset"
      ],
      "metadata": {
        "id": "4DeJsfaWg50W"
      }
    },
    {
      "cell_type": "code",
      "source": [
        "faces_training_set = []\n",
        "labels_training_set = []\n",
        "faces_testing_set = []\n",
        "labels_testing_set = []\n",
        "\n",
        "combined = zip(labels, face_data)\n",
        "# print(tuple(combined))\n",
        "counter = 0;\n",
        "for i, j in combined:\n",
        "    if counter % 2 == 0:\n",
        "      faces_testing_set.append(j)\n",
        "      labels_testing_set.append(i)\n",
        "    else:\n",
        "      faces_training_set.append(j)\n",
        "      labels_training_set.append(i)\n",
        "    counter += 1\n",
        "# 5 instances per person in testing and training\n",
        "print (labels_testing_set)"
      ],
      "metadata": {
        "colab": {
          "base_uri": "https://localhost:8080/"
        },
        "id": "0O8hzBGyg9aS",
        "outputId": "bdf008e3-e873-4a6b-92b7-ed368a2393ab"
      },
      "execution_count": 20,
      "outputs": [
        {
          "output_type": "stream",
          "name": "stdout",
          "text": [
            "[1, 1, 1, 1, 1, 2, 2, 2, 2, 2, 3, 3, 3, 3, 3, 4, 4, 4, 4, 4, 5, 5, 5, 5, 5, 6, 6, 6, 6, 6, 7, 7, 7, 7, 7, 8, 8, 8, 8, 8, 9, 9, 9, 9, 9, 10, 10, 10, 10, 10, 11, 11, 11, 11, 11, 12, 12, 12, 12, 12, 13, 13, 13, 13, 13, 14, 14, 14, 14, 14, 15, 15, 15, 15, 15, 16, 16, 16, 16, 16, 17, 17, 17, 17, 17, 18, 18, 18, 18, 18, 19, 19, 19, 19, 19, 20, 20, 20, 20, 20, 21, 21, 21, 21, 21, 22, 22, 22, 22, 22, 23, 23, 23, 23, 23, 24, 24, 24, 24, 24, 25, 25, 25, 25, 25, 26, 26, 26, 26, 26, 27, 27, 27, 27, 27, 28, 28, 28, 28, 28, 29, 29, 29, 29, 29, 30, 30, 30, 30, 30, 31, 31, 31, 31, 31, 32, 32, 32, 32, 32, 33, 33, 33, 33, 33, 34, 34, 34, 34, 34, 35, 35, 35, 35, 35, 36, 36, 36, 36, 36, 37, 37, 37, 37, 37, 38, 38, 38, 38, 38, 39, 39, 39, 39, 39, 40, 40, 40, 40, 40]\n"
          ]
        }
      ]
    }
  ]
}