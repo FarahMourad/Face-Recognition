{
  "nbformat": 4,
  "nbformat_minor": 0,
  "metadata": {
    "colab": {
      "name": "Face Recognition.ipynb",
      "provenance": [],
      "authorship_tag": "ABX9TyPMwVa4VfGCwJOTFcp1/aEU",
      "include_colab_link": true
    },
    "kernelspec": {
      "name": "python3",
      "display_name": "Python 3"
    },
    "language_info": {
      "name": "python"
    }
  },
  "cells": [
    {
      "cell_type": "markdown",
      "metadata": {
        "id": "view-in-github",
        "colab_type": "text"
      },
      "source": [
        "<a href=\"https://colab.research.google.com/github/FarahMourad/Face-Recognition/blob/main/Face_Recognition.ipynb\" target=\"_parent\"><img src=\"https://colab.research.google.com/assets/colab-badge.svg\" alt=\"Open In Colab\"/></a>"
      ]
    },
    {
      "cell_type": "markdown",
      "source": [
        "**Download** **Data**"
      ],
      "metadata": {
        "id": "kXACW9TKiMQ7"
      }
    },
    {
      "cell_type": "code",
      "execution_count": 2,
      "metadata": {
        "colab": {
          "base_uri": "https://localhost:8080/"
        },
        "id": "xY86aVhdd87A",
        "outputId": "b63017e1-9d63-4f7a-e601-f22d1a58659c"
      },
      "outputs": [
        {
          "output_type": "stream",
          "name": "stdout",
          "text": [
            "Mounted at /content/gdrive\n"
          ]
        }
      ],
      "source": [
        "from google.colab import drive\n",
        "drive.mount('/content/gdrive')"
      ]
    },
    {
      "cell_type": "code",
      "source": [
        "import os\n",
        "os.environ['KAGGLE_CONFIG_DIR'] = '/content/gdrive/My Drive/kaggle_dataset'"
      ],
      "metadata": {
        "id": "rdnZb0CHe-U7"
      },
      "execution_count": 7,
      "outputs": []
    },
    {
      "cell_type": "code",
      "source": [
        "%cd /content/gdrive/My Drive/kaggle_dataset"
      ],
      "metadata": {
        "colab": {
          "base_uri": "https://localhost:8080/"
        },
        "id": "i31O3ld5fbxu",
        "outputId": "cf59dae7-21d8-473c-848d-32887bef5b0c"
      },
      "execution_count": 8,
      "outputs": [
        {
          "output_type": "stream",
          "name": "stdout",
          "text": [
            "/content/gdrive/My Drive/kaggle_dataset\n"
          ]
        }
      ]
    },
    {
      "cell_type": "code",
      "source": [
        "!ls"
      ],
      "metadata": {
        "colab": {
          "base_uri": "https://localhost:8080/"
        },
        "id": "9fdZQcLxf-Pu",
        "outputId": "88b4f96d-cb85-445b-d53c-8e0d61915822"
      },
      "execution_count": 9,
      "outputs": [
        {
          "output_type": "stream",
          "name": "stdout",
          "text": [
            "kaggle.json\n"
          ]
        }
      ]
    },
    {
      "cell_type": "code",
      "source": [
        "!kaggle datasets download -d kasikrit/att-database-of-faces/"
      ],
      "metadata": {
        "colab": {
          "base_uri": "https://localhost:8080/"
        },
        "id": "R4UXAmB4gDAI",
        "outputId": "53c19fa2-668b-462d-dc2e-2c09d6f9601e"
      },
      "execution_count": 10,
      "outputs": [
        {
          "output_type": "stream",
          "name": "stdout",
          "text": [
            "Downloading att-database-of-faces.zip to /content/gdrive/My Drive/kaggle_dataset\n",
            "\r  0% 0.00/3.61M [00:00<?, ?B/s]\n",
            "\r100% 3.61M/3.61M [00:00<00:00, 59.6MB/s]\n"
          ]
        }
      ]
    },
    {
      "cell_type": "code",
      "source": [
        "!mkdir face-recognition\n",
        "!mv att-database-of-faces.zip face-recognition"
      ],
      "metadata": {
        "id": "xquTS1YHgY1g"
      },
      "execution_count": 11,
      "outputs": []
    },
    {
      "cell_type": "code",
      "source": [
        "%cd face-recognition/"
      ],
      "metadata": {
        "colab": {
          "base_uri": "https://localhost:8080/"
        },
        "id": "sQZllcgGgwh7",
        "outputId": "9e36b9d1-ef5c-4d35-811f-1cdfb55ded59"
      },
      "execution_count": 12,
      "outputs": [
        {
          "output_type": "stream",
          "name": "stdout",
          "text": [
            "/content/gdrive/MyDrive/kaggle_dataset/face-recognition\n"
          ]
        }
      ]
    },
    {
      "cell_type": "code",
      "source": [
        "!unzip att-database-of-faces.zip"
      ],
      "metadata": {
        "id": "HGny4Z-9g8t1"
      },
      "execution_count": null,
      "outputs": []
    },
    {
      "cell_type": "markdown",
      "source": [
        "**Prepare Data**"
      ],
      "metadata": {
        "id": "za2TKdLqjwc7"
      }
    },
    {
      "cell_type": "code",
      "source": [
        ""
      ],
      "metadata": {
        "id": "5v2JOveqj4Kx"
      },
      "execution_count": null,
      "outputs": []
    }
  ]
}